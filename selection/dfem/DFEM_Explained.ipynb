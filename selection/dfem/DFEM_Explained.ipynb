{
  "cells": [
    {
      "cell_type": "markdown",
      "source": [
        "# An Explanation of the Distribution of Fitness Effects of Mutations (DFEM)"
      ],
      "metadata": {}
    },
    {
      "cell_type": "markdown",
      "source": [
        "## Preamble"
      ],
      "metadata": {}
    },
    {
      "cell_type": "markdown",
      "source": [
        "Here we will have an explanation of the meaning of DFEM as implemented in the complex script."
      ],
      "metadata": {}
    },
    {
      "cell_type": "markdown",
      "source": [
        "## Load Libraries"
      ],
      "metadata": {}
    },
    {
      "cell_type": "code",
      "source": [
        "import numpy as np\n",
        "import scipy as sp\n",
        "import scipy.stats as stats\n",
        "import scipy.special as special\n",
        "import scipy.constants as constants\n",
        "import math\n",
        "import matplotlib.pyplot as plt\n",
        "import seaborn as sns\n",
        "%matplotlib inline"
      ],
      "outputs": [],
      "execution_count": 43,
      "metadata": {}
    },
    {
      "cell_type": "markdown",
      "source": [
        "## Parameters"
      ],
      "metadata": {}
    },
    {
      "cell_type": "markdown",
      "source": [
        "Here are the key variables that implement DFEM in the `m-d-s-complex-dfem.py` script:"
      ],
      "metadata": {}
    },
    {
      "cell_type": "code",
      "source": [
        "lethal = 0.1  # proportion of lethal mutations\n",
        "mu, sigma = -0.29, 0.31 #mu=mean; sigma=standard deviation\n",
        "lower, upper = -1.0, 1.0 # clips for truncation"
      ],
      "outputs": [],
      "execution_count": 44,
      "metadata": {}
    },
    {
      "cell_type": "markdown",
      "source": [
        "The mean, standard deviation, lower and upper variables define a [truncated normal distribution](https://docs.scipy.org/doc/scipy/reference/generated/scipy.stats.truncnorm.html). This can be implemented using the truncnorm() function from the scipy stats library:"
      ],
      "metadata": {}
    },
    {
      "cell_type": "code",
      "source": [
        "dfem = stats.truncnorm((lower - mu) / sigma, (upper - mu) / sigma, loc=mu, scale=sigma)"
      ],
      "outputs": [],
      "execution_count": 45,
      "metadata": {}
    },
    {
      "cell_type": "code",
      "source": [
        "dfem"
      ],
      "outputs": [
        {
          "output_type": "execute_result",
          "execution_count": 46,
          "data": {
            "text/plain": "<scipy.stats._distn_infrastructure.rv_frozen at 0x7fd9d4765280>"
          },
          "metadata": {}
        }
      ],
      "execution_count": 46,
      "metadata": {}
    },
    {
      "cell_type": "markdown",
      "source": [
        "Note that the first two arguments within the stats.truncnorm() function are the lower and upper bound of the truncated distribution. As noted in the [manual page](https://docs.scipy.org/doc/scipy/reference/generated/scipy.stats.truncnorm.html), these are calculated from the standard normal distribution in which μ = 0 and σ = 1."
      ],
      "metadata": {}
    },
    {
      "cell_type": "markdown",
      "source": [
        "## Derivation and Meaning"
      ],
      "metadata": {}
    },
    {
      "cell_type": "markdown",
      "source": [
        "The `dfem` variable is to be interpreted as `s`, the selection coefficient. The selection coefficient describes the change in fitness, `w` induced by a mutation:\n",
        "\n",
        "`w = w + s`\n",
        "\n",
        "Therefore:\n",
        "\n",
        "`s < 0: fitness will decrease, the mutation is deleterious\n",
        "s > 0: fitness will increase, the mutation is beneficial\n",
        "`\n",
        "\n",
        "Please consult table 2 of [Vale et al. (2012)](https://doi.org/10.1111/j.1558-5646.2012.01691.x) for the actual values of `s` chosen. Note that we have chosen the DFEM observed in the phage ΦX174 grown in _E. coli_ C and we have chosen the Normal distribution."
      ],
      "metadata": {}
    },
    {
      "cell_type": "markdown",
      "source": [
        "## Visualising the Distribution"
      ],
      "metadata": {}
    },
    {
      "cell_type": "markdown",
      "source": [
        "Let's now pick some random variates from this distribution and call them `r`:"
      ],
      "metadata": {}
    },
    {
      "cell_type": "code",
      "source": [
        "r = dfem.rvs(size=100000)"
      ],
      "outputs": [],
      "execution_count": 47,
      "metadata": {}
    },
    {
      "cell_type": "markdown",
      "source": [
        "We can now plot these variates against the probability density function ([pdf](https://en.wikipedia.org/wiki/Probability_density_function)) of the distribution to show the effects of the values chosen for the clips, location and scale arguments:"
      ],
      "metadata": {}
    },
    {
      "cell_type": "code",
      "source": [
        "fig, ax = plt.subplots(1, 1)\n",
        "x = np.linspace(-1.1,1.1, num=101)\n",
        "ax.plot(x, dfem.pdf(x), 'k-', lw=2, label='frozen pdf')\n",
        "ax.hist(r, density=True, histtype='stepfilled', alpha=0.2)"
      ],
      "outputs": [
        {
          "output_type": "execute_result",
          "execution_count": 48,
          "data": {
            "text/plain": "(array([0.19461897, 0.53714026, 1.01261655, 1.28151602, 1.08481963,\n        0.63513377, 0.24467977, 0.06288002, 0.01200851, 0.0014694 ]),\n array([-0.99991849, -0.80255849, -0.60519849, -0.40783849, -0.21047849,\n        -0.01311849,  0.1842415 ,  0.3816015 ,  0.5789615 ,  0.7763215 ,\n         0.9736815 ]),\n <a list of 1 Patch objects>)"
          },
          "metadata": {}
        },
        {
          "output_type": "display_data",
          "data": {
            "image/png": "[encoded data removed]",
            "text/plain": "<Figure size 432x288 with 1 Axes>"
          },
          "metadata": {
            "needs_background": "light"
          }
        }
      ],
      "execution_count": 48,
      "metadata": {}
    },
    {
      "cell_type": "markdown",
      "source": [
        "## Changing the Upper and Lower Bounds"
      ],
      "metadata": {}
    },
    {
      "cell_type": "markdown",
      "source": [
        "Let's change the value of the upper bound to 0 and recreate the graph:"
      ],
      "metadata": {}
    },
    {
      "cell_type": "code",
      "source": [
        "upper = 0.0\n",
        "dfem1 = stats.truncnorm((lower - mu) / sigma, (upper - mu) / sigma, loc=mu, scale=sigma)\n",
        "\n",
        "r1 = dfem1.rvs(size=100000)\n",
        "fig, ax = plt.subplots(1, 1)\n",
        "ax.plot(x, dfem1.pdf(x), 'k-', lw=2, label='frozen pdf')\n",
        "ax.hist(r_d, density=True, histtype='stepfilled', alpha=0.2)"
      ],
      "outputs": [
        {
          "output_type": "execute_result",
          "execution_count": 49,
          "data": {
            "text/plain": "(array([0.16782079, 0.3205397 , 0.52646521, 0.80780006, 1.11243779,\n        1.38477153, 1.55429252, 1.53238981, 1.43767808, 1.15704332]),\n array([-9.99894322e-01, -8.99906709e-01, -7.99919095e-01, -6.99931482e-01,\n        -5.99943868e-01, -4.99956255e-01, -3.99968641e-01, -2.99981028e-01,\n        -1.99993414e-01, -1.00005801e-01, -1.81876232e-05]),\n <a list of 1 Patch objects>)"
          },
          "metadata": {}
        },
        {
          "output_type": "display_data",
          "data": {
            "image/png": "[encoded data removed]",
            "text/plain": "<Figure size 432x288 with 1 Axes>"
          },
          "metadata": {
            "needs_background": "light"
          }
        }
      ],
      "execution_count": 49,
      "metadata": {}
    },
    {
      "cell_type": "markdown",
      "source": [
        "You can see that changing the value of the upper clip to 0 has abolished only values of the variable above 0. Since this variable represents the selection coefficient, this means that all fitness changes will either be 0 (neutral) or negative (deleterious)."
      ],
      "metadata": {}
    },
    {
      "cell_type": "markdown",
      "source": [
        "Let's take a look at what happens if we set the lower bound to 0 and return the upper bound to 1. We will plot all the PDFs together:"
      ],
      "metadata": {}
    },
    {
      "cell_type": "code",
      "source": [
        "lower, upper = 0.0, 1.0\n",
        "dfem2 = stats.truncnorm((lower - mu) / sigma, (upper - mu) / sigma, loc=mu, scale=sigma)\n",
        "\n",
        "fig, ax = plt.subplots(3)\n",
        "ax[0].plot(x, dfem.pdf(x), 'k-', lw=2, label='frozen pdf')\n",
        "ax[1].plot(x, dfem1.pdf(x), 'k-', lw=2, label='frozen pdf')\n",
        "ax[2].plot(x, dfem2.pdf(x), 'k-', lw=2, label='frozen pdf')"
      ],
      "outputs": [
        {
          "output_type": "execute_result",
          "execution_count": 50,
          "data": {
            "text/plain": "[<matplotlib.lines.Line2D at 0x7fd9d4d4a1c0>]"
          },
          "metadata": {}
        },
        {
          "output_type": "display_data",
          "data": {
            "image/png": "[encoded data removed]",
            "text/plain": "<Figure size 432x288 with 3 Axes>"
          },
          "metadata": {
            "needs_background": "light"
          }
        }
      ],
      "execution_count": 50,
      "metadata": {}
    },
    {
      "cell_type": "markdown",
      "source": [
        "Here you see that setting the lower clip to 0 abolishes all deleterious fitness effects. Most changes are close to 0 (neutral) but larger beneficial effects are possible if exponentially less likely (the tail of the Normal distribution is exponential). The distribution is also clipped at +1.0."
      ],
      "metadata": {}
    },
    {
      "cell_type": "markdown",
      "source": [
        "## To Do"
      ],
      "metadata": {}
    },
    {
      "cell_type": "markdown",
      "source": [
        "This is a quick description of the complex script. More is needed:\n",
        "\n",
        "* explain the loop that generates the new fitnesses\n",
        "* highlight memorylessness\n",
        "* explain the simple script: beneficial, deleterious and residual as neutral - can we graph these?"
      ],
      "metadata": {}
    },
    {
      "cell_type": "code",
      "source": [],
      "outputs": [],
      "execution_count": null,
      "metadata": {}
    }
  ],
  "metadata": {
    "kernelspec": {
      "display_name": "Python 3",
      "language": "python",
      "name": "python3"
    },
    "language_info": {
      "codemirror_mode": {
        "name": "ipython",
        "version": 3
      },
      "file_extension": ".py",
      "mimetype": "text/x-python",
      "name": "python",
      "nbconvert_exporter": "python",
      "pygments_lexer": "ipython3",
      "version": "3.8.3"
    },
    "nteract": {
      "version": "0.24.1"
    }
  },
  "nbformat": 4,
  "nbformat_minor": 4
}